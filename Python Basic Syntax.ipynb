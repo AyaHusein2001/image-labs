{
 "cells": [
  {
   "cell_type": "code",
   "execution_count": 2,
   "metadata": {},
   "outputs": [
    {
     "name": "stdout",
     "output_type": "stream",
     "text": [
      "3 True String!\n"
     ]
    }
   ],
   "source": [
    "#You declare the variable without type.\n",
    "a = 3\n",
    "b = True\n",
    "c = 'String!'\n",
    "print(a,b,c)"
   ]
  },
  {
   "cell_type": "code",
   "execution_count": 3,
   "metadata": {},
   "outputs": [
    {
     "name": "stdout",
     "output_type": "stream",
     "text": [
      "2.5\n",
      "2\n"
     ]
    }
   ],
   "source": [
    "print(5/2)\n",
    "print(int(5/2))"
   ]
  },
  {
   "cell_type": "code",
   "execution_count": 17,
   "metadata": {},
   "outputs": [
    {
     "name": "stdout",
     "output_type": "stream",
     "text": [
      "show array with for in\n",
      "1\n",
      "2\n",
      "3\n",
      "4\n",
      "5\n",
      "show array with for in range\n",
      "1\n",
      "2\n",
      "3\n",
      "4\n",
      "5\n",
      "show even numbers\n",
      "[0.5, 1.0, 1.5, 2.0, 2.5]\n"
     ]
    }
   ],
   "source": [
    "#Loops\n",
    "arr = [1,2,3,4,5]\n",
    "print('show array with for in')\n",
    "for x in arr:\n",
    "    print(x)\n",
    "print('show array with for in range')\n",
    "for x in range(len(arr)):\n",
    "    print(arr[x])\n",
    "print('show even numbers')\n",
    "for x,i in zip(arr,range(len(arr))):\n",
    "    arr[i]=arr[i]/2\n",
    "#     print(x)\n",
    "print(arr)\n",
    "        \n"
   ]
  },
  {
   "cell_type": "code",
   "execution_count": 5,
   "metadata": {},
   "outputs": [
    {
     "name": "stdout",
     "output_type": "stream",
     "text": [
      "[0, 1, 2]\n",
      "[0 1 2 3 4 5]\n",
      "[0 0 0 3 4 5]\n",
      "[-1  1 -1  3 -1  5]\n"
     ]
    }
   ],
   "source": [
    "# Array Indexing:\n",
    "arr = [0,1,2,3,4,5]\n",
    "print(arr[0:3])\n",
    "\n",
    "import numpy as np\n",
    "import math\n",
    "\n",
    "origMat = np.array(arr)\n",
    "mat = np.copy(origMat)\n",
    "print(mat)\n",
    "mat[0:3] = 0\n",
    "print(mat)\n",
    "mat = np.copy(origMat)\n",
    "mat[(mat%2==0)] = -1\n",
    "print(mat)"
   ]
  },
  {
   "cell_type": "code",
   "execution_count": 14,
   "metadata": {},
   "outputs": [
    {
     "name": "stdout",
     "output_type": "stream",
     "text": [
      "15\n"
     ]
    }
   ],
   "source": [
    "import math\n",
    "\n",
    "mat1 = np.array([\n",
    "                   [1,2,3,4,5],\n",
    "                   [6,7,8,9,10],\n",
    "                   [11,12,13,14,15]\n",
    "                   ])\n",
    "\n",
    "mat = np.array([\n",
    "                   [0.1,0.2,0.3,0.4,0.5],\n",
    "                   [0.6,0.7,0.3,0.4,0.5],\n",
    "                   [0.8,0.2,0.3,0.4,0.5]\n",
    "                   ])\n",
    "# print(mat1)\n",
    "mat=mat.astype(np.uint8)\n",
    "# print(mat)\n",
    "# mat[1:3,1:3] = 0\n",
    "# mat1=1.5*mat1+50\n",
    "# mat=mat.astype('uint8')\n",
    "# mat[:,:]=mat[:,:]*255\n",
    "# mat[0,0]=math.floor(mat[0,0])\n",
    "print(mat1.max())\n",
    "# print(len(mat1))"
   ]
  },
  {
   "cell_type": "code",
   "execution_count": null,
   "metadata": {},
   "outputs": [],
   "source": [
    "arrZeros = np.zeros((6,5))\n",
    "arrOnes =np.ones((6,5))\n",
    "print(arrZeros)\n",
    "print(arrOnes)\n",
    "print(arrOnes.shape)\n",
    "print(arrOnes.shape[0])"
   ]
  },
  {
   "cell_type": "code",
   "execution_count": null,
   "metadata": {},
   "outputs": [],
   "source": [
    "# Shows the fact that Python uses KEYWORD ARGUMENTS as well as the traditional positional arguments.\n",
    "## Notice that: in the output of the first and second call to function fun are the same.\n",
    "## In the second call (using keywords arguments), sorting arguments is not needed.\n",
    "\n",
    "\n",
    "def fun(x,y,z):\n",
    "    print (x,y,z)\n",
    "    \n",
    "fun(1,2,3);\n",
    "fun(z=3,y=2,x=1)"
   ]
  },
  {
   "cell_type": "code",
   "execution_count": null,
   "metadata": {},
   "outputs": [],
   "source": [
    "#instead of NULL: None\n",
    "\n",
    "x = None\n",
    "if (x==None):\n",
    "    print('x is None')\n"
   ]
  },
  {
   "cell_type": "code",
   "execution_count": null,
   "metadata": {},
   "outputs": [],
   "source": []
  }
 ],
 "metadata": {
  "kernelspec": {
   "display_name": "Python 3.11.0 64-bit",
   "language": "python",
   "name": "python3"
  },
  "language_info": {
   "codemirror_mode": {
    "name": "ipython",
    "version": 3
   },
   "file_extension": ".py",
   "mimetype": "text/x-python",
   "name": "python",
   "nbconvert_exporter": "python",
   "pygments_lexer": "ipython3",
   "version": "3.11.0"
  },
  "vscode": {
   "interpreter": {
    "hash": "1ed0d4db03fd54729f5e4c8d8af03de2d820281dd5ab92fa26108aec3b18fb30"
   }
  }
 },
 "nbformat": 4,
 "nbformat_minor": 2
}
